{
 "cells": [
  {
   "cell_type": "code",
   "execution_count": 1,
   "id": "1e567137",
   "metadata": {},
   "outputs": [],
   "source": [
    "import pandas as pd\n",
    "from sklearn.feature_extraction.text import TfidfVectorizer\n",
    "from sklearn.cluster import KMeans\n",
    "import numpy as np"
   ]
  },
  {
   "cell_type": "code",
   "execution_count": 2,
   "id": "ee3c49bc",
   "metadata": {},
   "outputs": [
    {
     "data": {
      "text/html": [
       "<div>\n",
       "<style scoped>\n",
       "    .dataframe tbody tr th:only-of-type {\n",
       "        vertical-align: middle;\n",
       "    }\n",
       "\n",
       "    .dataframe tbody tr th {\n",
       "        vertical-align: top;\n",
       "    }\n",
       "\n",
       "    .dataframe thead th {\n",
       "        text-align: right;\n",
       "    }\n",
       "</style>\n",
       "<table border=\"1\" class=\"dataframe\">\n",
       "  <thead>\n",
       "    <tr style=\"text-align: right;\">\n",
       "      <th></th>\n",
       "      <th>bid</th>\n",
       "      <th>title</th>\n",
       "      <th>author</th>\n",
       "      <th>category</th>\n",
       "      <th>status</th>\n",
       "    </tr>\n",
       "  </thead>\n",
       "  <tbody>\n",
       "    <tr>\n",
       "      <th>0</th>\n",
       "      <td>1</td>\n",
       "      <td>Steve Jobs</td>\n",
       "      <td>Walter Issacson</td>\n",
       "      <td>Biography</td>\n",
       "      <td>issued</td>\n",
       "    </tr>\n",
       "    <tr>\n",
       "      <th>1</th>\n",
       "      <td>2</td>\n",
       "      <td>Discovery of India</td>\n",
       "      <td>Jawaharlal Nehru</td>\n",
       "      <td>History</td>\n",
       "      <td>issued</td>\n",
       "    </tr>\n",
       "    <tr>\n",
       "      <th>2</th>\n",
       "      <td>3</td>\n",
       "      <td>My Experiments with Truth</td>\n",
       "      <td>Mahatma Gandhi</td>\n",
       "      <td>Autobiography</td>\n",
       "      <td>issued</td>\n",
       "    </tr>\n",
       "    <tr>\n",
       "      <th>3</th>\n",
       "      <td>4</td>\n",
       "      <td>Object Oriented Programming with C++</td>\n",
       "      <td>E Balagurusamy</td>\n",
       "      <td>Education</td>\n",
       "      <td>issued</td>\n",
       "    </tr>\n",
       "    <tr>\n",
       "      <th>4</th>\n",
       "      <td>5</td>\n",
       "      <td>Thinking with type</td>\n",
       "      <td>Ellen Lupton</td>\n",
       "      <td>Arts</td>\n",
       "      <td>issued</td>\n",
       "    </tr>\n",
       "  </tbody>\n",
       "</table>\n",
       "</div>"
      ],
      "text/plain": [
       "   bid                                 title            author       category  \\\n",
       "0    1                            Steve Jobs   Walter Issacson      Biography   \n",
       "1    2                    Discovery of India  Jawaharlal Nehru        History   \n",
       "2    3             My Experiments with Truth    Mahatma Gandhi  Autobiography   \n",
       "3    4  Object Oriented Programming with C++    E Balagurusamy      Education   \n",
       "4    5                    Thinking with type      Ellen Lupton           Arts   \n",
       "\n",
       "   status  \n",
       "0  issued  \n",
       "1  issued  \n",
       "2  issued  \n",
       "3  issued  \n",
       "4  issued  "
      ]
     },
     "execution_count": 2,
     "metadata": {},
     "output_type": "execute_result"
    }
   ],
   "source": [
    "data = pd.read_csv(\"C:/Users/SONY/Documents/CSV_Files/Books_data.csv\")\n",
    "data.head()"
   ]
  },
  {
   "cell_type": "code",
   "execution_count": 16,
   "id": "5352cd17",
   "metadata": {},
   "outputs": [
    {
     "data": {
      "text/plain": [
       "['Biography',\n",
       " 'History',\n",
       " 'Autobiography',\n",
       " 'Education',\n",
       " 'Arts',\n",
       " 'Photography',\n",
       " 'Economics',\n",
       " 'Management',\n",
       " 'Law',\n",
       " 'Health',\n",
       " 'Fiction',\n",
       " 'Fiction',\n",
       " 'Philosophical fiction',\n",
       " 'Education',\n",
       " 'Education',\n",
       " 'Autobiography',\n",
       " 'Personal Development',\n",
       " 'Personal Development',\n",
       " 'Business',\n",
       " 'High Fantasy',\n",
       " 'SPACE',\n",
       " 'Story',\n",
       " 'Fiction',\n",
       " 'Fiction',\n",
       " 'Fiction',\n",
       " 'Fiction',\n",
       " 'Fiction',\n",
       " 'Fiction',\n",
       " 'Fiction',\n",
       " 'Fiction',\n",
       " 'Philosophy',\n",
       " 'Philosophy',\n",
       " 'Philosophy',\n",
       " 'Philosophy',\n",
       " 'Philosophy',\n",
       " 'Autobiography',\n",
       " 'Autobiography',\n",
       " 'Autobiography',\n",
       " 'Autobiography',\n",
       " 'Economics',\n",
       " 'Economics',\n",
       " 'Economics',\n",
       " 'Economics',\n",
       " 'Economics',\n",
       " 'Story',\n",
       " 'Story',\n",
       " 'Story',\n",
       " 'Story',\n",
       " 'Story',\n",
       " 'History',\n",
       " 'History',\n",
       " 'History',\n",
       " 'History',\n",
       " 'History',\n",
       " 'Biography',\n",
       " 'Biography',\n",
       " 'Biography',\n",
       " 'Biography',\n",
       " 'Biography',\n",
       " 'Historical novel',\n",
       " 'Historical fiction']"
      ]
     },
     "execution_count": 16,
     "metadata": {},
     "output_type": "execute_result"
    }
   ],
   "source": [
    "titles = data['category'].tolist()\n",
    "titles"
   ]
  },
  {
   "cell_type": "code",
   "execution_count": 17,
   "id": "b63a0f03",
   "metadata": {},
   "outputs": [],
   "source": [
    "# TF-IDF Vectorization\n",
    "vectorizer = TfidfVectorizer(stop_words='english')\n",
    "X = vectorizer.fit_transform(titles)"
   ]
  },
  {
   "cell_type": "code",
   "execution_count": 18,
   "id": "118fdd1b",
   "metadata": {},
   "outputs": [
    {
     "name": "stderr",
     "output_type": "stream",
     "text": [
      "C:\\Users\\SONY\\anaconda3\\Lib\\site-packages\\sklearn\\cluster\\_kmeans.py:1412: FutureWarning: The default value of `n_init` will change from 10 to 'auto' in 1.4. Set the value of `n_init` explicitly to suppress the warning\n",
      "  super()._check_params_vs_input(X, default_n_init=10)\n"
     ]
    },
    {
     "data": {
      "text/html": [
       "<style>#sk-container-id-2 {color: black;}#sk-container-id-2 pre{padding: 0;}#sk-container-id-2 div.sk-toggleable {background-color: white;}#sk-container-id-2 label.sk-toggleable__label {cursor: pointer;display: block;width: 100%;margin-bottom: 0;padding: 0.3em;box-sizing: border-box;text-align: center;}#sk-container-id-2 label.sk-toggleable__label-arrow:before {content: \"▸\";float: left;margin-right: 0.25em;color: #696969;}#sk-container-id-2 label.sk-toggleable__label-arrow:hover:before {color: black;}#sk-container-id-2 div.sk-estimator:hover label.sk-toggleable__label-arrow:before {color: black;}#sk-container-id-2 div.sk-toggleable__content {max-height: 0;max-width: 0;overflow: hidden;text-align: left;background-color: #f0f8ff;}#sk-container-id-2 div.sk-toggleable__content pre {margin: 0.2em;color: black;border-radius: 0.25em;background-color: #f0f8ff;}#sk-container-id-2 input.sk-toggleable__control:checked~div.sk-toggleable__content {max-height: 200px;max-width: 100%;overflow: auto;}#sk-container-id-2 input.sk-toggleable__control:checked~label.sk-toggleable__label-arrow:before {content: \"▾\";}#sk-container-id-2 div.sk-estimator input.sk-toggleable__control:checked~label.sk-toggleable__label {background-color: #d4ebff;}#sk-container-id-2 div.sk-label input.sk-toggleable__control:checked~label.sk-toggleable__label {background-color: #d4ebff;}#sk-container-id-2 input.sk-hidden--visually {border: 0;clip: rect(1px 1px 1px 1px);clip: rect(1px, 1px, 1px, 1px);height: 1px;margin: -1px;overflow: hidden;padding: 0;position: absolute;width: 1px;}#sk-container-id-2 div.sk-estimator {font-family: monospace;background-color: #f0f8ff;border: 1px dotted black;border-radius: 0.25em;box-sizing: border-box;margin-bottom: 0.5em;}#sk-container-id-2 div.sk-estimator:hover {background-color: #d4ebff;}#sk-container-id-2 div.sk-parallel-item::after {content: \"\";width: 100%;border-bottom: 1px solid gray;flex-grow: 1;}#sk-container-id-2 div.sk-label:hover label.sk-toggleable__label {background-color: #d4ebff;}#sk-container-id-2 div.sk-serial::before {content: \"\";position: absolute;border-left: 1px solid gray;box-sizing: border-box;top: 0;bottom: 0;left: 50%;z-index: 0;}#sk-container-id-2 div.sk-serial {display: flex;flex-direction: column;align-items: center;background-color: white;padding-right: 0.2em;padding-left: 0.2em;position: relative;}#sk-container-id-2 div.sk-item {position: relative;z-index: 1;}#sk-container-id-2 div.sk-parallel {display: flex;align-items: stretch;justify-content: center;background-color: white;position: relative;}#sk-container-id-2 div.sk-item::before, #sk-container-id-2 div.sk-parallel-item::before {content: \"\";position: absolute;border-left: 1px solid gray;box-sizing: border-box;top: 0;bottom: 0;left: 50%;z-index: -1;}#sk-container-id-2 div.sk-parallel-item {display: flex;flex-direction: column;z-index: 1;position: relative;background-color: white;}#sk-container-id-2 div.sk-parallel-item:first-child::after {align-self: flex-end;width: 50%;}#sk-container-id-2 div.sk-parallel-item:last-child::after {align-self: flex-start;width: 50%;}#sk-container-id-2 div.sk-parallel-item:only-child::after {width: 0;}#sk-container-id-2 div.sk-dashed-wrapped {border: 1px dashed gray;margin: 0 0.4em 0.5em 0.4em;box-sizing: border-box;padding-bottom: 0.4em;background-color: white;}#sk-container-id-2 div.sk-label label {font-family: monospace;font-weight: bold;display: inline-block;line-height: 1.2em;}#sk-container-id-2 div.sk-label-container {text-align: center;}#sk-container-id-2 div.sk-container {/* jupyter's `normalize.less` sets `[hidden] { display: none; }` but bootstrap.min.css set `[hidden] { display: none !important; }` so we also need the `!important` here to be able to override the default hidden behavior on the sphinx rendered scikit-learn.org. See: https://github.com/scikit-learn/scikit-learn/issues/21755 */display: inline-block !important;position: relative;}#sk-container-id-2 div.sk-text-repr-fallback {display: none;}</style><div id=\"sk-container-id-2\" class=\"sk-top-container\"><div class=\"sk-text-repr-fallback\"><pre>KMeans(n_clusters=5, random_state=42)</pre><b>In a Jupyter environment, please rerun this cell to show the HTML representation or trust the notebook. <br />On GitHub, the HTML representation is unable to render, please try loading this page with nbviewer.org.</b></div><div class=\"sk-container\" hidden><div class=\"sk-item\"><div class=\"sk-estimator sk-toggleable\"><input class=\"sk-toggleable__control sk-hidden--visually\" id=\"sk-estimator-id-2\" type=\"checkbox\" checked><label for=\"sk-estimator-id-2\" class=\"sk-toggleable__label sk-toggleable__label-arrow\">KMeans</label><div class=\"sk-toggleable__content\"><pre>KMeans(n_clusters=5, random_state=42)</pre></div></div></div></div></div>"
      ],
      "text/plain": [
       "KMeans(n_clusters=5, random_state=42)"
      ]
     },
     "execution_count": 18,
     "metadata": {},
     "output_type": "execute_result"
    }
   ],
   "source": [
    "# Clustering using KMeans\n",
    "k = 5  # Number of clusters (you can adjust this)\n",
    "kmeans = KMeans(n_clusters=k, random_state=42)\n",
    "kmeans.fit(X)"
   ]
  },
  {
   "cell_type": "code",
   "execution_count": 19,
   "id": "68cd4c8b",
   "metadata": {},
   "outputs": [],
   "source": [
    "# Function to assign books to clusters\n",
    "def assign_books_to_clusters(titles, clusters):\n",
    "    clustered_books = {}\n",
    "    for i, title in enumerate(titles):\n",
    "        cluster_label = clusters[i]\n",
    "        if cluster_label not in clustered_books:\n",
    "            clustered_books[cluster_label] = []\n",
    "        clustered_books[cluster_label].append(title)\n",
    "    return clustered_books\n",
    "\n",
    "# Assign books to clusters\n",
    "clustered_books = assign_books_to_clusters(titles, kmeans.labels_)\n",
    "\n",
    "# Function to search for books in a cluster\n",
    "def search_books(clustered_books, query):\n",
    "    for cluster_label, books in clustered_books.items():\n",
    "        if query in ' '.join(books).lower():\n",
    "            return books\n",
    "    return []"
   ]
  },
  {
   "cell_type": "code",
   "execution_count": 21,
   "id": "d0cafe7a",
   "metadata": {},
   "outputs": [
    {
     "name": "stdout",
     "output_type": "stream",
     "text": [
      "Books related to 'biography' found in the library:\n",
      "- Biography\n",
      "- Education\n",
      "- Arts\n",
      "- Photography\n",
      "- Management\n",
      "- Law\n",
      "- Health\n",
      "- Education\n",
      "- Education\n",
      "- Personal Development\n",
      "- Personal Development\n",
      "- Business\n",
      "- High Fantasy\n",
      "- SPACE\n",
      "- Story\n",
      "- Philosophy\n",
      "- Philosophy\n",
      "- Philosophy\n",
      "- Philosophy\n",
      "- Philosophy\n",
      "- Story\n",
      "- Story\n",
      "- Story\n",
      "- Story\n",
      "- Story\n",
      "- Biography\n",
      "- Biography\n",
      "- Biography\n",
      "- Biography\n",
      "- Biography\n",
      "- Historical novel\n"
     ]
    }
   ],
   "source": [
    "# Example usage\n",
    "query = \"biography\"\n",
    "found_books = search_books(clustered_books, query.lower())\n",
    "if found_books:\n",
    "    print(\"Books related to '{}' found in the library:\".format(query))\n",
    "    for book in found_books:\n",
    "        print(\"-\", book)\n",
    "else:\n",
    "    print(\"No books related to '{}' found in the library.\".format(query))\n"
   ]
  },
  {
   "cell_type": "code",
   "execution_count": 22,
   "id": "14316824",
   "metadata": {},
   "outputs": [
    {
     "name": "stdout",
     "output_type": "stream",
     "text": [
      "Cluster 0:\n",
      "- Biography\n",
      "- Education\n",
      "- Arts\n",
      "- Photography\n",
      "- Management\n",
      "- Law\n",
      "- Health\n",
      "- Education\n",
      "- Education\n",
      "- Personal Development\n",
      "- Personal Development\n",
      "- Business\n",
      "- High Fantasy\n",
      "- SPACE\n",
      "- Story\n",
      "- Philosophy\n",
      "- Philosophy\n",
      "- Philosophy\n",
      "- Philosophy\n",
      "- Philosophy\n",
      "- Story\n",
      "- Story\n",
      "- Story\n",
      "- Story\n",
      "- Story\n",
      "- Biography\n",
      "- Biography\n",
      "- Biography\n",
      "- Biography\n",
      "- Biography\n",
      "- Historical novel\n",
      "\n",
      "Cluster 4:\n",
      "- History\n",
      "- History\n",
      "- History\n",
      "- History\n",
      "- History\n",
      "- History\n",
      "\n",
      "Cluster 2:\n",
      "- Autobiography\n",
      "- Autobiography\n",
      "- Autobiography\n",
      "- Autobiography\n",
      "- Autobiography\n",
      "- Autobiography\n",
      "\n",
      "Cluster 3:\n",
      "- Economics\n",
      "- Economics\n",
      "- Economics\n",
      "- Economics\n",
      "- Economics\n",
      "- Economics\n",
      "\n",
      "Cluster 1:\n",
      "- Fiction\n",
      "- Fiction\n",
      "- Philosophical fiction\n",
      "- Fiction\n",
      "- Fiction\n",
      "- Fiction\n",
      "- Fiction\n",
      "- Fiction\n",
      "- Fiction\n",
      "- Fiction\n",
      "- Fiction\n",
      "- Historical fiction\n",
      "\n"
     ]
    }
   ],
   "source": [
    "# Print clusters and their books\n",
    "for cluster_label, books in clustered_books.items():\n",
    "    print(\"Cluster {}:\".format(cluster_label))\n",
    "    for book in books:\n",
    "        print(\"-\", book)\n",
    "    print()"
   ]
  },
  {
   "cell_type": "code",
   "execution_count": 23,
   "id": "5853d62d",
   "metadata": {},
   "outputs": [
    {
     "data": {
      "image/png": "[encoded data removed]",
      "text/plain": [
       "<Figure size 800x600 with 1 Axes>"
      ]
     },
     "metadata": {},
     "output_type": "display_data"
    }
   ],
   "source": [
    "import matplotlib.pyplot as plt\n",
    "\n",
    "# Get cluster centroids\n",
    "centroids = kmeans.cluster_centers_\n",
    "\n",
    "# Assign each data point to its cluster\n",
    "cluster_labels = kmeans.labels_\n",
    "\n",
    "# Create scatter plot\n",
    "plt.figure(figsize=(8, 6))\n",
    "for i in range(k):\n",
    "    cluster_data = X[cluster_labels == i].toarray()  # Convert CSR matrix to array\n",
    "    plt.scatter(cluster_data[:, 0], cluster_data[:, 1], label='Cluster {}'.format(i))\n",
    "\n",
    "# Plot centroids\n",
    "plt.scatter(centroids[:, 0], centroids[:, 1], marker='*', s=300, c='black', label='Centroids')\n",
    "\n",
    "plt.title('Clusters of Books')\n",
    "plt.xlabel('Feature 1')\n",
    "plt.ylabel('Feature 2')\n",
    "plt.legend()\n",
    "plt.show()\n",
    "\n"
   ]
  }
 ],
 "metadata": {
  "kernelspec": {
   "display_name": "Python 3 (ipykernel)",
   "language": "python",
   "name": "python3"
  },
  "language_info": {
   "codemirror_mode": {
    "name": "ipython",
    "version": 3
   },
   "file_extension": ".py",
   "mimetype": "text/x-python",
   "name": "python",
   "nbconvert_exporter": "python",
   "pygments_lexer": "ipython3",
   "version": "3.11.4"
  }
 },
 "nbformat": 4,
 "nbformat_minor": 5
}
